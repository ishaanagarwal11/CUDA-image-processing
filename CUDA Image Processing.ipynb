{
  "nbformat": 4,
  "nbformat_minor": 0,
  "metadata": {
    "colab": {
      "provenance": [],
      "gpuType": "T4",
      "include_colab_link": true
    },
    "kernelspec": {
      "name": "python3",
      "display_name": "Python 3"
    },
    "language_info": {
      "name": "python"
    },
    "accelerator": "GPU"
  },
  "cells": [
    {
      "cell_type": "markdown",
      "metadata": {
        "id": "view-in-github",
        "colab_type": "text"
      },
      "source": [
        "<a href=\"https://colab.research.google.com/github/ishaanagarwal11/Sample/blob/main/CUDA%20Image%20Processing.ipynb\" target=\"_parent\"><img src=\"https://colab.research.google.com/assets/colab-badge.svg\" alt=\"Open In Colab\"/></a>"
      ]
    },
    {
      "cell_type": "code",
      "execution_count": null,
      "metadata": {
        "colab": {
          "base_uri": "https://localhost:8080/"
        },
        "id": "X0XhmrPgWJ_x",
        "outputId": "ca420971-a382-413e-defb-36bd70bfcb2f"
      },
      "outputs": [
        {
          "output_type": "stream",
          "name": "stdout",
          "text": [
            "nvcc: NVIDIA (R) Cuda compiler driver\n",
            "Copyright (c) 2005-2023 NVIDIA Corporation\n",
            "Built on Tue_Aug_15_22:02:13_PDT_2023\n",
            "Cuda compilation tools, release 12.2, V12.2.140\n",
            "Build cuda_12.2.r12.2/compiler.33191640_0\n"
          ]
        }
      ],
      "source": [
        "!nvcc --version"
      ]
    },
    {
      "cell_type": "code",
      "source": [
        "!pip install git+https://github.com/andreinechaev/nvcc4jupyter.git\n"
      ],
      "metadata": {
        "colab": {
          "base_uri": "https://localhost:8080/"
        },
        "id": "MammyXuaWPvk",
        "outputId": "202b529f-5c9a-4822-eaa4-e40a22f5be7c"
      },
      "execution_count": null,
      "outputs": [
        {
          "output_type": "stream",
          "name": "stdout",
          "text": [
            "Collecting git+https://github.com/andreinechaev/nvcc4jupyter.git\n",
            "  Cloning https://github.com/andreinechaev/nvcc4jupyter.git to /tmp/pip-req-build-k9dnbz6k\n",
            "  Running command git clone --filter=blob:none --quiet https://github.com/andreinechaev/nvcc4jupyter.git /tmp/pip-req-build-k9dnbz6k\n",
            "  Resolved https://github.com/andreinechaev/nvcc4jupyter.git to commit 5741c522547756ac4bb7a16df32106a15efb8a57\n",
            "  Installing build dependencies ... \u001b[?25l\u001b[?25hdone\n",
            "  Getting requirements to build wheel ... \u001b[?25l\u001b[?25hdone\n",
            "  Preparing metadata (pyproject.toml) ... \u001b[?25l\u001b[?25hdone\n",
            "Building wheels for collected packages: nvcc4jupyter\n",
            "  Building wheel for nvcc4jupyter (pyproject.toml) ... \u001b[?25l\u001b[?25hdone\n",
            "  Created wheel for nvcc4jupyter: filename=nvcc4jupyter-1.2.1-py3-none-any.whl size=10740 sha256=4bbc71ae6f58940e713435e47d01f445cd32bbd97f6535216d51b147c07d7d08\n",
            "  Stored in directory: /tmp/pip-ephem-wheel-cache-2s8al2_n/wheels/a8/b9/18/23f8ef71ceb0f63297dd1903aedd067e6243a68ea756d6feea\n",
            "Successfully built nvcc4jupyter\n",
            "Installing collected packages: nvcc4jupyter\n",
            "Successfully installed nvcc4jupyter-1.2.1\n"
          ]
        }
      ]
    },
    {
      "cell_type": "code",
      "source": [
        "%load_ext nvcc4jupyter\n"
      ],
      "metadata": {
        "colab": {
          "base_uri": "https://localhost:8080/"
        },
        "id": "mESqtVZ0WSe1",
        "outputId": "dfc6525e-ed4f-4e7c-9344-4271949c3eb8"
      },
      "execution_count": null,
      "outputs": [
        {
          "output_type": "stream",
          "name": "stdout",
          "text": [
            "Detected platform \"Colab\". Running its setup...\n",
            "Source files will be saved in \"/tmp/tmpg69odhzb\".\n"
          ]
        }
      ]
    },
    {
      "cell_type": "code",
      "source": [
        "%%writefile sobelEdgeDetectionFilter.cu\n",
        "#include <stdio.h>\n",
        "#include <opencv2/core/core.hpp>\n",
        "#include <opencv2/imgcodecs.hpp>\n",
        "#include <opencv2/highgui/highgui.hpp>\n",
        "\n",
        "using namespace cv;\n",
        "\n",
        "__global__ void sobelFilter(unsigned char *srcImage, unsigned char *dstImage, unsigned int width, unsigned int height) {\n",
        "    int x = blockIdx.x * blockDim.x + threadIdx.x;\n",
        "    int y = blockIdx.y * blockDim.y + threadIdx.y;\n",
        "\n",
        "    float Kx[3][3] = { -1, 0, 1, -2, 0, 2, -1, 0, 1 };\n",
        "    float Ky[3][3] = { 1, 2, 1, 0, 0, 0, -1, -2, -1 };\n",
        "\n",
        "    // only threads inside image will write results\n",
        "    if ((x >= 3 / 2) && (x < (width - 3 / 2)) && (y >= 3 / 2) && (y < (height - 3 / 2))) {\n",
        "        // Gradient in x-direction\n",
        "        float Gx = 0;\n",
        "        // Loop inside the filter to average pixel values\n",
        "        for (int ky = -3 / 2; ky <= 3 / 2; ky++) {\n",
        "            for (int kx = -3 / 2; kx <= 3 / 2; kx++) {\n",
        "                float fl = srcImage[((y + ky) * width + (x + kx))];\n",
        "                Gx += fl * Kx[ky + 3 / 2][kx + 3 / 2];\n",
        "            }\n",
        "        }\n",
        "        float Gx_abs = Gx < 0 ? -Gx : Gx;\n",
        "\n",
        "        // Gradient in y-direction\n",
        "        float Gy = 0;\n",
        "        // Loop inside the filter to average pixel values\n",
        "        for (int ky = -3 / 2; ky <= 3 / 2; ky++) {\n",
        "            for (int kx = -3 / 2; kx <= 3 / 2; kx++) {\n",
        "                float fl = srcImage[((y + ky) * width + (x + kx))];\n",
        "                Gy += fl * Ky[ky + 3 / 2][kx + 3 / 2];\n",
        "            }\n",
        "        }\n",
        "        float Gy_abs = Gy < 0 ? -Gy : Gy;\n",
        "\n",
        "        dstImage[(y * width + x)] = Gx_abs + Gy_abs;\n",
        "    }\n",
        "}\n",
        "\n",
        "void checkCudaErrors(cudaError_t r) {\n",
        "    if (r != cudaSuccess) {\n",
        "        fprintf(stderr, \"CUDA Error: %s\\n\", cudaGetErrorString(r));\n",
        "        exit(EXIT_FAILURE);\n",
        "    }\n",
        "}\n",
        "\n",
        "int main() {\n",
        "    // Read input image\n",
        "    Mat image = imread(\"images.jpeg\", IMREAD_GRAYSCALE);\n",
        "    if (image.empty()) {\n",
        "        printf(\"Error: Image not found.\\n\");\n",
        "        return -1;\n",
        "    }\n",
        "\n",
        "    int width = image.cols;\n",
        "    int height = image.rows;\n",
        "    size_t imageSize = width * height * sizeof(unsigned char);\n",
        "\n",
        "    // Allocate host memory for output image\n",
        "    unsigned char *h_outputImage = (unsigned char *)malloc(imageSize);\n",
        "    if (h_outputImage == nullptr) {\n",
        "        fprintf(stderr, \"Failed to allocate host memory\\n\");\n",
        "        return -1;\n",
        "    }\n",
        "\n",
        "    // Allocate device memory\n",
        "    unsigned char *d_inputImage, *d_outputImage;\n",
        "    checkCudaErrors(cudaMalloc(&d_inputImage, imageSize));\n",
        "    checkCudaErrors(cudaMalloc(&d_outputImage, imageSize));\n",
        "    checkCudaErrors(cudaMemcpy(d_inputImage, image.data, imageSize, cudaMemcpyHostToDevice));\n",
        "\n",
        "    // Define CUDA events for timing\n",
        "    cudaEvent_t start, stop;\n",
        "    cudaEventCreate(&start);\n",
        "    cudaEventCreate(&stop);\n",
        "\n",
        "    // Launch kernel\n",
        "    dim3 blockSize(16, 16);\n",
        "    dim3 gridSize(ceil(width / 16.0), ceil(height / 16.0));\n",
        "\n",
        "    cudaEventRecord(start);\n",
        "    sobelFilter<<<gridSize, blockSize>>>(d_inputImage, d_outputImage, width, height);\n",
        "    cudaEventRecord(stop);\n",
        "\n",
        "    // Synchronize events\n",
        "    cudaEventSynchronize(stop);\n",
        "\n",
        "    // Calculate elapsed time\n",
        "    float milliseconds = 0;\n",
        "    cudaEventElapsedTime(&milliseconds, start, stop);\n",
        "\n",
        "    // Copy result back to host\n",
        "    checkCudaErrors(cudaMemcpy(h_outputImage, d_outputImage, imageSize, cudaMemcpyDeviceToHost));\n",
        "\n",
        "    // Write output image\n",
        "    Mat outputImage(height, width, CV_8UC1, h_outputImage);\n",
        "    imwrite(\"output_sobel.jpeg\", outputImage);\n",
        "\n",
        "    // Free memory\n",
        "    free(h_outputImage);\n",
        "    cudaFree(d_inputImage);\n",
        "    cudaFree(d_outputImage);\n",
        "\n",
        "    // Destroy CUDA events\n",
        "    cudaEventDestroy(start);\n",
        "    cudaEventDestroy(stop);\n",
        "\n",
        "    // Print elapsed time\n",
        "    printf(\"Total time taken: %f milliseconds\\n\", milliseconds);\n",
        "\n",
        "    return 0;\n",
        "}\n"
      ],
      "metadata": {
        "colab": {
          "base_uri": "https://localhost:8080/"
        },
        "id": "CyFcFBatenE7",
        "outputId": "476967fa-679d-4893-e0ba-a26e175524ef"
      },
      "execution_count": null,
      "outputs": [
        {
          "output_type": "stream",
          "name": "stdout",
          "text": [
            "Writing sobelEdgeDetectionFilter.cu\n"
          ]
        }
      ]
    },
    {
      "cell_type": "code",
      "source": [
        "!nvcc -o sobelEdgeDetectionFilter sobelEdgeDetectionFilter.cu `pkg-config --cflags --libs opencv4`"
      ],
      "metadata": {
        "id": "3zL_vkpTYyWk"
      },
      "execution_count": null,
      "outputs": []
    },
    {
      "cell_type": "code",
      "source": [
        "!./sobelEdgeDetectionFilter"
      ],
      "metadata": {
        "id": "l8lpQNg9ZUxd",
        "colab": {
          "base_uri": "https://localhost:8080/"
        },
        "outputId": "bd381ad5-5a7c-47df-84b1-0ec8cf586a6e"
      },
      "execution_count": null,
      "outputs": [
        {
          "output_type": "stream",
          "name": "stdout",
          "text": [
            "Total time taken: 0.198688 milliseconds\n"
          ]
        }
      ]
    },
    {
      "cell_type": "code",
      "source": [
        "%%writefile sobelEdgeDetectionFilter.c\n",
        "#include <stdio.h>\n",
        "#include <stdlib.h>\n",
        "#include <stdint.h>\n",
        "#include <sys/time.h>\n",
        "#include <opencv2/core/core.hpp>\n",
        "#include <opencv2/imgcodecs.hpp>\n",
        "#include <opencv2/highgui/highgui.hpp>\n",
        "\n",
        "using namespace cv;\n",
        "\n",
        "void sobelFilter(unsigned char *srcImage, unsigned char *dstImage, int width, int height) {\n",
        "    float Kx[3][3] = { -1, 0, 1, -2, 0, 2, -1, 0, 1 };\n",
        "    float Ky[3][3] = { 1, 2, 1, 0, 0, 0, -1, -2, -1 };\n",
        "\n",
        "    // Apply Sobel filter\n",
        "    for (int y = 1; y < height - 1; y++) {\n",
        "        for (int x = 1; x < width - 1; x++) {\n",
        "            // Gradient in x-direction\n",
        "            float Gx = 0;\n",
        "            // Loop inside the filter to average pixel values\n",
        "            for (int ky = -1; ky <= 1; ky++) {\n",
        "                for (int kx = -1; kx <= 1; kx++) {\n",
        "                    float fl = srcImage[(y + ky) * width + (x + kx)];\n",
        "                    Gx += fl * Kx[ky + 1][kx + 1];\n",
        "                }\n",
        "            }\n",
        "            float Gx_abs = Gx < 0 ? -Gx : Gx;\n",
        "\n",
        "            // Gradient in y-direction\n",
        "            float Gy = 0;\n",
        "            // Loop inside the filter to average pixel values\n",
        "            for (int ky = -1; ky <= 1; ky++) {\n",
        "                for (int kx = -1; kx <= 1; kx++) {\n",
        "                    float fl = srcImage[(y + ky) * width + (x + kx)];\n",
        "                    Gy += fl * Ky[ky + 1][kx + 1];\n",
        "                }\n",
        "            }\n",
        "            float Gy_abs = Gy < 0 ? -Gy : Gy;\n",
        "\n",
        "            dstImage[y * width + x] = (unsigned char)(Gx_abs + Gy_abs);\n",
        "        }\n",
        "    }\n",
        "}\n",
        "\n",
        "int main() {\n",
        "    // Read input image\n",
        "    Mat image = imread(\"images.jpeg\", IMREAD_GRAYSCALE);\n",
        "    if (image.empty()) {\n",
        "        printf(\"Error: Image not found.\\n\");\n",
        "        return -1;\n",
        "    }\n",
        "\n",
        "    int width = image.cols;\n",
        "    int height = image.rows;\n",
        "    size_t imageSize = width * height * sizeof(unsigned char);\n",
        "\n",
        "    // Allocate memory for output image\n",
        "    unsigned char *outputImage = (unsigned char *)malloc(imageSize);\n",
        "    if (outputImage == nullptr) {\n",
        "        fprintf(stderr, \"Failed to allocate memory\\n\");\n",
        "        return -1;\n",
        "    }\n",
        "\n",
        "    // Convert input image to grayscale and copy data to input buffer\n",
        "    unsigned char *inputImage = image.data;\n",
        "\n",
        "    // Timing\n",
        "    struct timeval start, end;\n",
        "    gettimeofday(&start, NULL);\n",
        "\n",
        "    // Apply Sobel filter\n",
        "    sobelFilter(inputImage, outputImage, width, height);\n",
        "\n",
        "    // Timing\n",
        "    gettimeofday(&end, NULL);\n",
        "    float elapsed = (end.tv_sec - start.tv_sec) * 1000.0; // sec to ms\n",
        "    elapsed += (end.tv_usec - start.tv_usec) / 1000.0;   // us to ms\n",
        "\n",
        "    // Write output image\n",
        "    Mat output(height, width, CV_8UC1, outputImage);\n",
        "    imwrite(\"output_sobel_cpu.jpeg\", output);\n",
        "\n",
        "    // Free memory\n",
        "    free(outputImage);\n",
        "\n",
        "    // Print elapsed time\n",
        "    printf(\"Total time taken: %f milliseconds\\n\", elapsed);\n",
        "\n",
        "    return 0;\n",
        "}\n"
      ],
      "metadata": {
        "colab": {
          "base_uri": "https://localhost:8080/"
        },
        "id": "F2M_jUNqfYt7",
        "outputId": "fc678ee6-f429-40af-8f47-790d105484a5"
      },
      "execution_count": null,
      "outputs": [
        {
          "output_type": "stream",
          "name": "stdout",
          "text": [
            "Writing sobelEdgeDetectionFilter.c\n"
          ]
        }
      ]
    },
    {
      "cell_type": "code",
      "source": [
        "!g++ -o sobelEdgeDetectionFilterC sobelEdgeDetectionFilter.c `pkg-config --cflags --libs opencv4`"
      ],
      "metadata": {
        "id": "ZiBNlrzPf88p"
      },
      "execution_count": null,
      "outputs": []
    },
    {
      "cell_type": "code",
      "source": [
        "!./sobelEdgeDetectionFilterC"
      ],
      "metadata": {
        "colab": {
          "base_uri": "https://localhost:8080/"
        },
        "id": "4qD-Hiq3gRo7",
        "outputId": "bb84d25d-9bec-435b-e43b-2d0ee0d2a19d"
      },
      "execution_count": null,
      "outputs": [
        {
          "output_type": "stream",
          "name": "stdout",
          "text": [
            "Total time taken: 74.099998 milliseconds\n"
          ]
        }
      ]
    },
    {
      "cell_type": "code",
      "source": [
        "%%writefile blur.cu\n",
        "#include <stdio.h>\n",
        "#include <opencv2/core/core.hpp>\n",
        "#include <opencv2/imgcodecs.hpp>\n",
        "#include <opencv2/highgui/highgui.hpp>\n",
        "\n",
        "using namespace cv;\n",
        "\n",
        "__global__ void boxFilter(unsigned char *srcImage, unsigned char *dstImage, unsigned int width, unsigned int height, int channel)\n",
        "{\n",
        "    int x = blockIdx.x * blockDim.x + threadIdx.x;\n",
        "    int y = blockIdx.y * blockDim.y + threadIdx.y;\n",
        "\n",
        "    // Define a larger kernel size for increased blur intensity\n",
        "    const int kernelSize = 20;\n",
        "    const int halfKernelSize = kernelSize / 2;\n",
        "\n",
        "    // only threads inside image will write results\n",
        "    if ((x >= halfKernelSize) && (x < width - halfKernelSize) && (y >= halfKernelSize) && (y < height - halfKernelSize))\n",
        "    {\n",
        "        for (int c = 0; c < channel; c++)\n",
        "        {\n",
        "            // Sum of pixel values\n",
        "            float sum = 0;\n",
        "            // Number of filter pixels\n",
        "            float kS = 0;\n",
        "            // Loop inside the filter to average pixel values\n",
        "            for (int ky = -halfKernelSize; ky <= halfKernelSize; ky++)\n",
        "            {\n",
        "                for (int kx = -halfKernelSize; kx <= halfKernelSize; kx++)\n",
        "                {\n",
        "                    float fl = srcImage[((y + ky) * width + (x + kx)) * channel + c];\n",
        "                    sum += fl;\n",
        "                    kS += 1;\n",
        "                }\n",
        "            }\n",
        "            dstImage[(y * width + x) * channel + c] = sum / kS;\n",
        "        }\n",
        "    }\n",
        "}\n",
        "\n",
        "void checkCudaErrors(cudaError_t r)\n",
        "{\n",
        "    if (r != cudaSuccess)\n",
        "    {\n",
        "        fprintf(stderr, \"CUDA Error: %s\\n\", cudaGetErrorString(r));\n",
        "        exit(EXIT_FAILURE);\n",
        "    }\n",
        "}\n",
        "\n",
        "int main()\n",
        "{\n",
        "    // Read input image\n",
        "    Mat image = imread(\"images.jpeg\", IMREAD_COLOR);\n",
        "    if (image.empty())\n",
        "    {\n",
        "        printf(\"Error: Image not found.\\n\");\n",
        "        return -1;\n",
        "    }\n",
        "\n",
        "    int width = image.cols;\n",
        "    int height = image.rows;\n",
        "    int channel = image.channels();\n",
        "    size_t imageSize = width * height * channel * sizeof(unsigned char);\n",
        "\n",
        "    // Allocate host memory for output image\n",
        "    unsigned char *h_outputImage = (unsigned char *)malloc(imageSize);\n",
        "    if (h_outputImage == nullptr)\n",
        "    {\n",
        "        fprintf(stderr, \"Failed to allocate host memory\\n\");\n",
        "        return -1;\n",
        "    }\n",
        "\n",
        "    // Allocate device memory\n",
        "    unsigned char *d_inputImage, *d_outputImage;\n",
        "    checkCudaErrors(cudaMalloc(&d_inputImage, imageSize));\n",
        "    checkCudaErrors(cudaMalloc(&d_outputImage, imageSize));\n",
        "    checkCudaErrors(cudaMemcpy(d_inputImage, image.data, imageSize, cudaMemcpyHostToDevice));\n",
        "\n",
        "    // Define CUDA events for timing\n",
        "    cudaEvent_t start, stop;\n",
        "    checkCudaErrors(cudaEventCreate(&start));\n",
        "    checkCudaErrors(cudaEventCreate(&stop));\n",
        "\n",
        "    // Launch kernel\n",
        "    dim3 blockSize(16, 16);\n",
        "    dim3 gridSize((width + blockSize.x - 1) / blockSize.x, (height + blockSize.y - 1) / blockSize.y);\n",
        "\n",
        "    checkCudaErrors(cudaEventRecord(start));\n",
        "    boxFilter<<<gridSize, blockSize>>>(d_inputImage, d_outputImage, width, height, channel);\n",
        "    checkCudaErrors(cudaEventRecord(stop));\n",
        "\n",
        "    // Synchronize events\n",
        "    checkCudaErrors(cudaEventSynchronize(stop));\n",
        "\n",
        "    // Calculate elapsed time\n",
        "    float milliseconds = 0;\n",
        "    checkCudaErrors(cudaEventElapsedTime(&milliseconds, start, stop));\n",
        "\n",
        "    // Copy result back to host\n",
        "    checkCudaErrors(cudaMemcpy(h_outputImage, d_outputImage, imageSize, cudaMemcpyDeviceToHost));\n",
        "\n",
        "    // Write output image\n",
        "    Mat outputImage(height, width, CV_8UC3, h_outputImage);\n",
        "    imwrite(\"output_blur.jpeg\", outputImage);\n",
        "\n",
        "    // Free memory\n",
        "    free(h_outputImage);\n",
        "    cudaFree(d_inputImage);\n",
        "    cudaFree(d_outputImage);\n",
        "\n",
        "    // Destroy CUDA events\n",
        "    cudaEventDestroy(start);\n",
        "    cudaEventDestroy(stop);\n",
        "\n",
        "    // Print elapsed time\n",
        "    printf(\"Total time taken: %f milliseconds\\n\", milliseconds);\n",
        "\n",
        "    return 0;\n",
        "}\n"
      ],
      "metadata": {
        "colab": {
          "base_uri": "https://localhost:8080/"
        },
        "id": "dpN-IMqmidKw",
        "outputId": "fc5fa1e3-e167-4269-86f7-c5bf3d5a7f8c"
      },
      "execution_count": null,
      "outputs": [
        {
          "output_type": "stream",
          "name": "stdout",
          "text": [
            "Overwriting blur.cu\n"
          ]
        }
      ]
    },
    {
      "cell_type": "code",
      "source": [
        "!nvcc -o blur blur.cu `pkg-config --cflags --libs opencv4` && ./blur"
      ],
      "metadata": {
        "colab": {
          "base_uri": "https://localhost:8080/"
        },
        "id": "aQx5QbahjSjM",
        "outputId": "fe6cec69-fc91-4b08-fd2e-5c6e23599ae3"
      },
      "execution_count": null,
      "outputs": [
        {
          "output_type": "stream",
          "name": "stdout",
          "text": [
            "Total time taken: 4.703936 milliseconds\n"
          ]
        }
      ]
    },
    {
      "cell_type": "code",
      "source": [
        "%%writefile blur.c\n",
        "#include <stdio.h>\n",
        "#include <stdlib.h>\n",
        "#include <stdint.h>\n",
        "#include <sys/time.h>\n",
        "#include <opencv2/core/core.hpp>\n",
        "#include <opencv2/imgcodecs.hpp>\n",
        "#include <opencv2/highgui/highgui.hpp>\n",
        "\n",
        "using namespace cv;\n",
        "\n",
        "void boxFilter(unsigned char *srcImage, unsigned char *dstImage, int width, int height, int channel) {\n",
        "    // Define a larger kernel size for increased blur intensity\n",
        "    const int kernelSize = 20;\n",
        "    const int halfKernelSize = kernelSize / 2;\n",
        "\n",
        "    for (int y = halfKernelSize; y < height - halfKernelSize; y++) {\n",
        "        for (int x = halfKernelSize; x < width - halfKernelSize; x++) {\n",
        "            for (int c = 0; c < channel; c++) {\n",
        "                float sum = 0;\n",
        "                float kS = 0;\n",
        "                for (int ky = -halfKernelSize; ky <= halfKernelSize; ky++) {\n",
        "                    for (int kx = -halfKernelSize; kx <= halfKernelSize; kx++) {\n",
        "                        float fl = srcImage[((y + ky) * width + (x + kx)) * channel + c];\n",
        "                        sum += fl;\n",
        "                        kS += 1;\n",
        "                    }\n",
        "                }\n",
        "                dstImage[(y * width + x) * channel + c] = sum / kS;\n",
        "            }\n",
        "        }\n",
        "    }\n",
        "}\n",
        "\n",
        "int main() {\n",
        "    // Read input image\n",
        "    Mat image = imread(\"images.jpeg\", IMREAD_COLOR);\n",
        "    if (image.empty()) {\n",
        "        printf(\"Error: Image not found.\\n\");\n",
        "        return -1;\n",
        "    }\n",
        "\n",
        "    int width = image.cols;\n",
        "    int height = image.rows;\n",
        "    int channel = image.channels();\n",
        "    size_t imageSize = width * height * channel * sizeof(unsigned char);\n",
        "\n",
        "    // Allocate memory for output image\n",
        "    unsigned char *outputImage = (unsigned char *)malloc(imageSize);\n",
        "    if (outputImage == nullptr) {\n",
        "        fprintf(stderr, \"Failed to allocate memory\\n\");\n",
        "        return -1;\n",
        "    }\n",
        "\n",
        "    // Convert input image to grayscale and copy data to input buffer\n",
        "    unsigned char *inputImage = image.data;\n",
        "\n",
        "    // Timing\n",
        "    struct timeval start, end;\n",
        "    gettimeofday(&start, NULL);\n",
        "\n",
        "    // Apply box filter\n",
        "    boxFilter(inputImage, outputImage, width, height, channel);\n",
        "\n",
        "    // Timing\n",
        "    gettimeofday(&end, NULL);\n",
        "    float elapsed = (end.tv_sec - start.tv_sec) * 1000.0; // sec to ms\n",
        "    elapsed += (end.tv_usec - start.tv_usec) / 1000.0;   // us to ms\n",
        "\n",
        "    // Write output image\n",
        "    Mat output(height, width, CV_8UC3, outputImage);\n",
        "    imwrite(\"output_blur_cpu.jpeg\", output);\n",
        "\n",
        "    // Free memory\n",
        "    free(outputImage);\n",
        "\n",
        "    // Print elapsed time\n",
        "    printf(\"Total time taken: %f milliseconds\\n\", elapsed);\n",
        "\n",
        "    return 0;\n",
        "}\n"
      ],
      "metadata": {
        "colab": {
          "base_uri": "https://localhost:8080/"
        },
        "id": "yLTpnGhplT8u",
        "outputId": "989cff76-3f4a-41a5-cd84-e7553324a5b1"
      },
      "execution_count": null,
      "outputs": [
        {
          "output_type": "stream",
          "name": "stdout",
          "text": [
            "Overwriting blur.c\n"
          ]
        }
      ]
    },
    {
      "cell_type": "code",
      "source": [
        "!g++ -o blurC blur.c `pkg-config --cflags --libs opencv4` && ./blurC"
      ],
      "metadata": {
        "colab": {
          "base_uri": "https://localhost:8080/"
        },
        "id": "3vhIG8H6mxR4",
        "outputId": "b20b87b7-d864-485f-d1b9-f7235ed4bf7b"
      },
      "execution_count": null,
      "outputs": [
        {
          "output_type": "stream",
          "name": "stdout",
          "text": [
            "Total time taken: 3278.642090 milliseconds\n"
          ]
        }
      ]
    },
    {
      "cell_type": "code",
      "source": [
        "%%writefile sharpening.cu\n",
        "#include <stdio.h>\n",
        "#include <opencv2/core/core.hpp>\n",
        "#include <opencv2/imgcodecs.hpp>\n",
        "#include <opencv2/highgui/highgui.hpp>\n",
        "\n",
        "using namespace cv;\n",
        "\n",
        "__global__ void sharpeningFilter(unsigned char *srcImage, unsigned char *dstImage, unsigned int width, unsigned int height, int channel)\n",
        "{\n",
        "    int x = blockIdx.x * blockDim.x + threadIdx.x;\n",
        "    int y = blockIdx.y * blockDim.y + threadIdx.y;\n",
        "\n",
        "    float kernel[3][3] = {{-1, -1, -1}, {-1, 9, -1}, {-1, -1, -1}};\n",
        "\n",
        "    // only threads inside image will write results\n",
        "    if ((x >= 1) && (x < width - 1) && (y >= 1) && (y < height - 1))\n",
        "    {\n",
        "        for (int c = 0; c < channel; c++)\n",
        "        {\n",
        "            // Sum of pixel values\n",
        "            float sum = 0;\n",
        "            // Loop inside the filter to apply the kernel\n",
        "            for (int ky = -1; ky <= 1; ky++)\n",
        "            {\n",
        "                for (int kx = -1; kx <= 1; kx++)\n",
        "                {\n",
        "                    float fl = srcImage[((y + ky) * width + (x + kx)) * channel + c];\n",
        "                    sum += fl * kernel[ky + 1][kx + 1];\n",
        "                }\n",
        "            }\n",
        "            dstImage[(y * width + x) * channel + c] = sum;\n",
        "        }\n",
        "    }\n",
        "}\n",
        "\n",
        "void checkCudaErrors(cudaError_t r)\n",
        "{\n",
        "    if (r != cudaSuccess)\n",
        "    {\n",
        "        fprintf(stderr, \"CUDA Error: %s\\n\", cudaGetErrorString(r));\n",
        "        exit(EXIT_FAILURE);\n",
        "    }\n",
        "}\n",
        "\n",
        "int main()\n",
        "{\n",
        "    // Read input image\n",
        "    Mat image = imread(\"images.jpeg\", IMREAD_GRAYSCALE);\n",
        "    if (image.empty())\n",
        "    {\n",
        "        printf(\"Error: Image not found.\\n\");\n",
        "        return -1;\n",
        "    }\n",
        "\n",
        "    int width = image.cols;\n",
        "    int height = image.rows;\n",
        "    int channel = image.channels();\n",
        "    size_t imageSize = width * height * sizeof(unsigned char);\n",
        "\n",
        "    // Allocate host memory for output image\n",
        "    unsigned char *h_outputImage = (unsigned char *)malloc(imageSize);\n",
        "    if (h_outputImage == nullptr)\n",
        "    {\n",
        "        fprintf(stderr, \"Failed to allocate host memory\\n\");\n",
        "        return -1;\n",
        "    }\n",
        "\n",
        "    // Allocate device memory\n",
        "    unsigned char *d_inputImage, *d_outputImage;\n",
        "    checkCudaErrors(cudaMalloc(&d_inputImage, imageSize));\n",
        "    checkCudaErrors(cudaMalloc(&d_outputImage, imageSize));\n",
        "    checkCudaErrors(cudaMemcpy(d_inputImage, image.data, imageSize, cudaMemcpyHostToDevice));\n",
        "\n",
        "    // Define CUDA events for timing\n",
        "    cudaEvent_t start, stop;\n",
        "    checkCudaErrors(cudaEventCreate(&start));\n",
        "    checkCudaErrors(cudaEventCreate(&stop));\n",
        "\n",
        "    // Launch kernel\n",
        "    dim3 blockSize(16, 16);\n",
        "    dim3 gridSize((width + blockSize.x - 1) / blockSize.x, (height + blockSize.y - 1) / blockSize.y);\n",
        "\n",
        "    checkCudaErrors(cudaEventRecord(start));\n",
        "    sharpeningFilter<<<gridSize, blockSize>>>(d_inputImage, d_outputImage, width, height, channel);\n",
        "    checkCudaErrors(cudaEventRecord(stop));\n",
        "\n",
        "    // Synchronize events\n",
        "    checkCudaErrors(cudaEventSynchronize(stop));\n",
        "\n",
        "    // Calculate elapsed time\n",
        "    float milliseconds = 0;\n",
        "    checkCudaErrors(cudaEventElapsedTime(&milliseconds, start, stop));\n",
        "\n",
        "    // Copy result back to host\n",
        "    checkCudaErrors(cudaMemcpy(h_outputImage, d_outputImage, imageSize, cudaMemcpyDeviceToHost));\n",
        "\n",
        "    // Write output image\n",
        "    Mat outputImage(height, width, CV_8UC1, h_outputImage);\n",
        "    imwrite(\"output_sharpened.jpeg\", outputImage);\n",
        "\n",
        "    // Free memory\n",
        "    free(h_outputImage);\n",
        "    cudaFree(d_inputImage);\n",
        "    cudaFree(d_outputImage);\n",
        "\n",
        "    // Destroy CUDA events\n",
        "    cudaEventDestroy(start);\n",
        "    cudaEventDestroy(stop);\n",
        "\n",
        "    // Print elapsed time\n",
        "    printf(\"Total time taken: %f milliseconds\\n\", milliseconds);\n",
        "\n",
        "    return 0;\n",
        "}\n"
      ],
      "metadata": {
        "colab": {
          "base_uri": "https://localhost:8080/"
        },
        "id": "ZFNdfWXDojNd",
        "outputId": "aff2ce09-459c-4e74-ba02-b96392c1d543"
      },
      "execution_count": null,
      "outputs": [
        {
          "output_type": "stream",
          "name": "stdout",
          "text": [
            "Overwriting sharpening.cu\n"
          ]
        }
      ]
    },
    {
      "cell_type": "code",
      "source": [
        "!nvcc -o sharpening sharpening.cu `pkg-config --cflags --libs opencv4` && ./sharpening"
      ],
      "metadata": {
        "colab": {
          "base_uri": "https://localhost:8080/"
        },
        "id": "Qxdj1qvQopJv",
        "outputId": "b8d352ad-dba3-495e-e701-b6ad4b08e379"
      },
      "execution_count": null,
      "outputs": [
        {
          "output_type": "stream",
          "name": "stdout",
          "text": [
            "Total time taken: 0.206752 milliseconds\n"
          ]
        }
      ]
    },
    {
      "cell_type": "code",
      "source": [
        "%%writefile sharpening.c\n",
        "#include <stdio.h>\n",
        "#include <stdlib.h>\n",
        "#include <opencv2/core/core.hpp>\n",
        "#include <opencv2/imgcodecs.hpp>\n",
        "#include <opencv2/highgui/highgui.hpp>\n",
        "\n",
        "using namespace cv;\n",
        "\n",
        "void sharpeningFilter(unsigned char *srcImage, unsigned char *dstImage, unsigned int width, unsigned int height, int channel)\n",
        "{\n",
        "    float kernel[3][3] = {{-1, -1, -1}, {-1, 9, -1}, {-1, -1, -1}};\n",
        "\n",
        "    for (int y = 1; y < height - 1; ++y)\n",
        "    {\n",
        "        for (int x = 1; x < width - 1; ++x)\n",
        "        {\n",
        "            for (int c = 0; c < channel; ++c)\n",
        "            {\n",
        "                float sum = 0;\n",
        "                for (int ky = -1; ky <= 1; ++ky)\n",
        "                {\n",
        "                    for (int kx = -1; kx <= 1; ++kx)\n",
        "                    {\n",
        "                        float fl = srcImage[((y + ky) * width + (x + kx)) * channel + c];\n",
        "                        sum += fl * kernel[ky + 1][kx + 1];\n",
        "                    }\n",
        "                }\n",
        "                dstImage[(y * width + x) * channel + c] = sum;\n",
        "            }\n",
        "        }\n",
        "    }\n",
        "}\n",
        "\n",
        "int main()\n",
        "{\n",
        "    Mat image = imread(\"images.jpeg\", IMREAD_GRAYSCALE);\n",
        "    if (image.empty())\n",
        "    {\n",
        "        printf(\"Error: Image not found.\\n\");\n",
        "        return -1;\n",
        "    }\n",
        "\n",
        "    int width = image.cols;\n",
        "    int height = image.rows;\n",
        "    int channel = image.channels();\n",
        "    size_t imageSize = width * height * sizeof(unsigned char);\n",
        "\n",
        "    unsigned char *h_outputImage = (unsigned char *)malloc(imageSize);\n",
        "    if (h_outputImage == nullptr)\n",
        "    {\n",
        "        fprintf(stderr, \"Failed to allocate host memory\\n\");\n",
        "        return -1;\n",
        "    }\n",
        "\n",
        "    unsigned char *inputImage = image.data;\n",
        "\n",
        "    // Define CPU events for timing\n",
        "    clock_t start, end;\n",
        "    double cpu_time_used;\n",
        "\n",
        "    // Start time\n",
        "    start = clock();\n",
        "\n",
        "    // Apply sharpening filter\n",
        "    sharpeningFilter(inputImage, h_outputImage, width, height, channel);\n",
        "\n",
        "    // End time\n",
        "    end = clock();\n",
        "\n",
        "    // Calculate elapsed time\n",
        "    cpu_time_used = ((double)(end - start)) / CLOCKS_PER_SEC * 1000.0;\n",
        "\n",
        "    // Write output image\n",
        "    Mat outputImage(height, width, CV_8UC1, h_outputImage);\n",
        "    imwrite(\"output_sharpened.jpeg\", outputImage);\n",
        "\n",
        "    // Free memory\n",
        "    free(h_outputImage);\n",
        "\n",
        "    // Print elapsed time\n",
        "    printf(\"Total time taken: %f milliseconds\\n\", cpu_time_used);\n",
        "\n",
        "    return 0;\n",
        "}\n",
        "\n"
      ],
      "metadata": {
        "colab": {
          "base_uri": "https://localhost:8080/"
        },
        "id": "lgQq9B6dpp3A",
        "outputId": "3992108b-6c59-405d-de47-574625b92618"
      },
      "execution_count": null,
      "outputs": [
        {
          "output_type": "stream",
          "name": "stdout",
          "text": [
            "Writing sharpening.c\n"
          ]
        }
      ]
    },
    {
      "cell_type": "code",
      "source": [
        "!g++ -o sharpening sharpening.c `pkg-config --cflags --libs opencv4` -std=c++11 && ./sharpening"
      ],
      "metadata": {
        "colab": {
          "base_uri": "https://localhost:8080/"
        },
        "id": "b-V-uEFLp9PA",
        "outputId": "887ea2bb-ce9a-403c-d510-8955ae28208a"
      },
      "execution_count": null,
      "outputs": [
        {
          "output_type": "stream",
          "name": "stdout",
          "text": [
            "Total time taken: 78.918000 milliseconds\n"
          ]
        }
      ]
    },
    {
      "cell_type": "code",
      "source": [
        "%%writefile red.cu\n",
        "#include <stdio.h>\n",
        "#include <opencv2/core/core.hpp>\n",
        "#include <opencv2/imgcodecs.hpp>\n",
        "#include <opencv2/highgui/highgui.hpp>\n",
        "\n",
        "using namespace cv;\n",
        "\n",
        "__global__ void redChannelManipulation(unsigned char *srcImage, unsigned char *dstImage, unsigned int width, unsigned int height)\n",
        "{\n",
        "    int x = blockIdx.x * blockDim.x + threadIdx.x;\n",
        "    int y = blockIdx.y * blockDim.y + threadIdx.y;\n",
        "\n",
        "    // only threads inside image will write results\n",
        "    if ((x >= 0) && (x < width) && (y >= 0) && (y < height))\n",
        "    {\n",
        "        // Get the red channel value\n",
        "        unsigned char red = srcImage[(y * width + x) * 3 + 2]; // BGR ordering: red channel is at index 2\n",
        "\n",
        "        // Modify the red channel value (for example, increasing its intensity)\n",
        "        // You can apply any desired manipulation here\n",
        "        red = min(255, red * 2); // Example: doubling the intensity, capped at 255\n",
        "\n",
        "        // Write the modified red channel value to the output image\n",
        "        dstImage[(y * width + x) * 3 + 2] = red; // BGR ordering: red channel is at index 2\n",
        "    }\n",
        "}\n",
        "\n",
        "void checkCudaErrors(cudaError_t r) {\n",
        "    if (r != cudaSuccess) {\n",
        "        fprintf(stderr, \"CUDA Error: %s\\n\", cudaGetErrorString(r));\n",
        "        exit(EXIT_FAILURE);\n",
        "    }\n",
        "}\n",
        "\n",
        "int main() {\n",
        "    // Read input image\n",
        "    Mat image = imread(\"images.jpeg\", IMREAD_COLOR);\n",
        "    if (image.empty()) {\n",
        "        printf(\"Error: Image not found.\\n\");\n",
        "        return -1;\n",
        "    }\n",
        "    int width = image.cols;\n",
        "    int height = image.rows;\n",
        "    size_t imageSize = width * height * 3 * sizeof(unsigned char); // 3 channels (BGR)\n",
        "\n",
        "    unsigned char *h_outputImage = (unsigned char *)malloc(imageSize);\n",
        "    if (h_outputImage == nullptr) {\n",
        "        fprintf(stderr, \"Failed to allocate host memory\\n\");\n",
        "        return -1;\n",
        "    }\n",
        "\n",
        "    unsigned char *d_inputImage, *d_outputImage;\n",
        "    checkCudaErrors(cudaMalloc(&d_inputImage, imageSize));\n",
        "    checkCudaErrors(cudaMalloc(&d_outputImage, imageSize));\n",
        "    checkCudaErrors(cudaMemcpy(d_inputImage, image.data, imageSize, cudaMemcpyHostToDevice));\n",
        "\n",
        "    // Define CUDA events for timing\n",
        "    cudaEvent_t start, stop;\n",
        "    checkCudaErrors(cudaEventCreate(&start));\n",
        "    checkCudaErrors(cudaEventCreate(&stop));\n",
        "\n",
        "    // Launch kernel\n",
        "    dim3 blockSize(16, 16);\n",
        "    dim3 gridSize((width + blockSize.x - 1) / blockSize.x, (height + blockSize.y - 1) / blockSize.y);\n",
        "\n",
        "    checkCudaErrors(cudaEventRecord(start));\n",
        "    redChannelManipulation<<<gridSize, blockSize>>>(d_inputImage, d_outputImage, width, height);\n",
        "    checkCudaErrors(cudaEventRecord(stop));\n",
        "\n",
        "    // Synchronize events\n",
        "    checkCudaErrors(cudaEventSynchronize(stop));\n",
        "\n",
        "    // Calculate elapsed time\n",
        "    float milliseconds = 0;\n",
        "    checkCudaErrors(cudaEventElapsedTime(&milliseconds, start, stop));\n",
        "\n",
        "    // Copy result back to host\n",
        "    checkCudaErrors(cudaMemcpy(h_outputImage, d_outputImage, imageSize, cudaMemcpyDeviceToHost));\n",
        "\n",
        "    // Write output image\n",
        "    Mat outputImage(height, width, CV_8UC3, h_outputImage); // 3 channels (BGR)\n",
        "    imwrite(\"output_red_modified.jpeg\", outputImage);\n",
        "\n",
        "    // Free memory\n",
        "    free(h_outputImage);\n",
        "    cudaFree(d_inputImage);\n",
        "    cudaFree(d_outputImage);\n",
        "\n",
        "    // Destroy CUDA events\n",
        "    cudaEventDestroy(start);\n",
        "    cudaEventDestroy(stop);\n",
        "\n",
        "    // Print elapsed time\n",
        "    printf(\"Total time taken: %f milliseconds\\n\", milliseconds);\n",
        "\n",
        "    return 0;\n",
        "}\n"
      ],
      "metadata": {
        "colab": {
          "base_uri": "https://localhost:8080/"
        },
        "id": "4wXuq7_UyyZm",
        "outputId": "3656dd3c-2b7a-41a8-db3e-aa12c681bd67"
      },
      "execution_count": null,
      "outputs": [
        {
          "output_type": "stream",
          "name": "stdout",
          "text": [
            "Writing red.cu\n"
          ]
        }
      ]
    },
    {
      "cell_type": "code",
      "source": [
        "!nvcc -o red red.cu `pkg-config --cflags --libs opencv4` && ./red"
      ],
      "metadata": {
        "colab": {
          "base_uri": "https://localhost:8080/"
        },
        "id": "JrtbgP4lzSt9",
        "outputId": "bb92775c-b0d4-414b-e593-35f8bcb5f066"
      },
      "execution_count": null,
      "outputs": [
        {
          "output_type": "stream",
          "name": "stdout",
          "text": [
            "Total time taken: 0.239840 milliseconds\n"
          ]
        }
      ]
    },
    {
      "cell_type": "code",
      "source": [
        "%%writefile red.c\n",
        "#include <stdio.h>\n",
        "#include <opencv2/core/core.hpp>\n",
        "#include <opencv2/imgcodecs.hpp>\n",
        "#include <opencv2/highgui/highgui.hpp>\n",
        "\n",
        "using namespace cv;\n",
        "\n",
        "void redChannelManipulation(unsigned char *srcImage, unsigned char *dstImage, unsigned int width, unsigned int height)\n",
        "{\n",
        "    for (int y = 0; y < height; ++y)\n",
        "    {\n",
        "        for (int x = 0; x < width; ++x)\n",
        "        {\n",
        "            // Get the red channel value\n",
        "            unsigned char red = srcImage[(y * width + x) * 3 + 2]; // BGR ordering: red channel is at index 2\n",
        "\n",
        "            // Modify the red channel value (for example, increasing its intensity)\n",
        "            // You can apply any desired manipulation here\n",
        "            red = std::min(255, red * 2); // Example: doubling the intensity, capped at 255\n",
        "\n",
        "            // Write the modified red channel value to the output image\n",
        "            dstImage[(y * width + x) * 3 + 2] = red; // BGR ordering: red channel is at index 2\n",
        "        }\n",
        "    }\n",
        "}\n",
        "\n",
        "int main()\n",
        "{\n",
        "    // Read input image\n",
        "    Mat image = imread(\"images.jpeg\", IMREAD_COLOR);\n",
        "    if (image.empty())\n",
        "    {\n",
        "        printf(\"Error: Image not found.\\n\");\n",
        "        return -1;\n",
        "    }\n",
        "    int width = image.cols;\n",
        "    int height = image.rows;\n",
        "    size_t imageSize = width * height * 3 * sizeof(unsigned char); // 3 channels (BGR)\n",
        "\n",
        "    unsigned char *h_outputImage = (unsigned char *)malloc(imageSize);\n",
        "    if (h_outputImage == nullptr)\n",
        "    {\n",
        "        fprintf(stderr, \"Failed to allocate host memory\\n\");\n",
        "        return -1;\n",
        "    }\n",
        "\n",
        "    // Define CPU time variables\n",
        "    clock_t start, end;\n",
        "    double cpu_time_used;\n",
        "\n",
        "    start = clock(); // Start measuring CPU time\n",
        "\n",
        "    // Perform red channel manipulation\n",
        "    redChannelManipulation(image.data, h_outputImage, width, height);\n",
        "\n",
        "    end = clock(); // Stop measuring CPU time\n",
        "\n",
        "    cpu_time_used = ((double)(end - start)) / CLOCKS_PER_SEC * 1000.0; // Calculate CPU time in milliseconds\n",
        "\n",
        "    // Write output image\n",
        "    Mat outputImage(height, width, CV_8UC3, h_outputImage); // 3 channels (BGR)\n",
        "    imwrite(\"output_red_modified.jpeg\", outputImage);\n",
        "\n",
        "    // Free memory\n",
        "    free(h_outputImage);\n",
        "\n",
        "    // Print elapsed time\n",
        "    printf(\"Total time taken: %f milliseconds\\n\", cpu_time_used);\n",
        "\n",
        "    return 0;\n",
        "}\n"
      ],
      "metadata": {
        "colab": {
          "base_uri": "https://localhost:8080/"
        },
        "id": "10sGD3puzVIv",
        "outputId": "5d3f0e17-f0d3-41d3-cfde-2ddd7610cfda"
      },
      "execution_count": null,
      "outputs": [
        {
          "output_type": "stream",
          "name": "stdout",
          "text": [
            "Writing red.c\n"
          ]
        }
      ]
    },
    {
      "cell_type": "code",
      "source": [
        "!g++ -o red red.c `pkg-config --cflags --libs opencv4` && ./red"
      ],
      "metadata": {
        "colab": {
          "base_uri": "https://localhost:8080/"
        },
        "id": "n4noglpTzvvc",
        "outputId": "540763aa-e7c9-4189-8eb8-6852feefcbfc"
      },
      "execution_count": null,
      "outputs": [
        {
          "output_type": "stream",
          "name": "stdout",
          "text": [
            "Total time taken: 12.235000 milliseconds\n"
          ]
        }
      ]
    }
  ]
}